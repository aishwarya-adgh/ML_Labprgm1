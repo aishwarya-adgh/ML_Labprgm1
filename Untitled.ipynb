{
 "cells": [
  {
   "cell_type": "code",
   "execution_count": 1,
   "metadata": {},
   "outputs": [],
   "source": [
    "import random\n",
    "import csv"
   ]
  },
  {
   "cell_type": "code",
   "execution_count": 2,
   "metadata": {},
   "outputs": [],
   "source": [
    "attributes = [['sunny','rainy'],\n",
    "             ['warm','cold'],\n",
    "             ['strong','week'],\n",
    "             ['normal','high'],\n",
    "             ['warm','cool'],\n",
    "             ['same','change']]"
   ]
  },
  {
   "cell_type": "code",
   "execution_count": 3,
   "metadata": {},
   "outputs": [
    {
     "name": "stdout",
     "output_type": "stream",
     "text": [
      "[['sunny', 'rainy'], ['warm', 'cold'], ['strong', 'week'], ['normal', 'high'], ['warm', 'cool'], ['same', 'change']]\n"
     ]
    }
   ],
   "source": [
    "print(attributes)"
   ]
  },
  {
   "cell_type": "code",
   "execution_count": 4,
   "metadata": {},
   "outputs": [
    {
     "name": "stdout",
     "output_type": "stream",
     "text": [
      "6\n"
     ]
    }
   ],
   "source": [
    "num_attributes = len(attributes)\n",
    "print(num_attributes)"
   ]
  },
  {
   "cell_type": "code",
   "execution_count": 5,
   "metadata": {},
   "outputs": [
    {
     "name": "stdout",
     "output_type": "stream",
     "text": [
      "\n",
      " The most general hypothesis : ['?','?','?','?','?','?']\n",
      "\n",
      "\n",
      " The most specific hypothesis : ['0','0','0','0','0','0']\n",
      "\n"
     ]
    }
   ],
   "source": [
    "print(\"\\n The most general hypothesis : ['?','?','?','?','?','?']\\n\")\n",
    "print(\"\\n The most specific hypothesis : ['0','0','0','0','0','0']\\n\")"
   ]
  },
  {
   "cell_type": "code",
   "execution_count": 7,
   "metadata": {},
   "outputs": [
    {
     "name": "stdout",
     "output_type": "stream",
     "text": [
      "\n",
      " The given training Data set\n",
      "\n",
      "['1', 'sunny', 'warm', 'normal', 'strong', 'warm', 'same', 'yes']\n",
      "['2', 'sunny', 'warm', 'high', 'strong', 'warm', 'same', 'yes']\n",
      "['3', 'rainy', 'cold', 'high', 'strong', 'warm', 'change', 'no']\n",
      "['4', 'sunny', 'warm', 'high', 'strong', 'cool', 'change', 'yes']\n"
     ]
    }
   ],
   "source": [
    "a = []\n",
    "print(\"\\n The given training Data set\\n\")\n",
    "with open('input.csv','r') as csvfile:\n",
    "    reader = csv.reader(csvfile)\n",
    "    for row in reader:\n",
    "        a.append(row)\n",
    "        print(row)\n",
    "    "
   ]
  },
  {
   "cell_type": "code",
   "execution_count": 8,
   "metadata": {},
   "outputs": [
    {
     "name": "stdout",
     "output_type": "stream",
     "text": [
      "\n",
      " the initial values of hypothesis:\n",
      "['0', '0', '0', '0', '0', '0']\n"
     ]
    }
   ],
   "source": [
    "print('\\n the initial values of hypothesis:')\n",
    "h = ['0']*num_attributes\n",
    "print(h)"
   ]
  },
  {
   "cell_type": "code",
   "execution_count": 11,
   "metadata": {},
   "outputs": [
    {
     "name": "stdout",
     "output_type": "stream",
     "text": [
      "\n",
      " For training examples :4 the hypothesis\n",
      " ['0', '0', '0', '0', '0', '0']\n"
     ]
    }
   ],
   "source": [
    "for i in range(0,len(a)):\n",
    "    if a[i][num_attributes] == 'yes':\n",
    "        for j in range(num_attributes):\n",
    "            if h[j] == '0' or h[j] == a[i][j]:\n",
    "                h[j] = a[i][j]\n",
    "            else:\n",
    "                h[j] = '?'\n",
    "print(\"\\n For training examples :{0} the hypothesis\\n\" .format(i+1),h)"
   ]
  },
  {
   "cell_type": "code",
   "execution_count": null,
   "metadata": {},
   "outputs": [],
   "source": []
  }
 ],
 "metadata": {
  "kernelspec": {
   "display_name": "Python 3",
   "language": "python",
   "name": "python3"
  },
  "language_info": {
   "codemirror_mode": {
    "name": "ipython",
    "version": 3
   },
   "file_extension": ".py",
   "mimetype": "text/x-python",
   "name": "python",
   "nbconvert_exporter": "python",
   "pygments_lexer": "ipython3",
   "version": "3.8.3"
  }
 },
 "nbformat": 4,
 "nbformat_minor": 4
}
